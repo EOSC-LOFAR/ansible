{
 "cells": [
  {
   "cell_type": "code",
   "execution_count": null,
   "metadata": {},
   "outputs": [],
   "source": [
    "\"\"\"\n",
    "* login to https://ui.hpccloud.surfsara.nl/\n",
    "* make sure you are in the user view\n",
    "* go to Apps\n",
    "* select an \"app\" (like Ubuntu-16.04.3-Server (2017-12-07)) and press \"openNebula\"\n",
    "* select local_images_ssh datastore and then press \"download\"\n",
    "* Go to VM Templates view and notice VM template ID\n",
    "\"\"\""
   ]
  },
  {
   "cell_type": "code",
   "execution_count": null,
   "metadata": {},
   "outputs": [],
   "source": [
    "import oca\n",
    "import os\n",
    "import sys"
   ]
  },
  {
   "cell_type": "code",
   "execution_count": null,
   "metadata": {},
   "outputs": [],
   "source": [
    "# settings\n",
    "TEMPLATE_ID = 7890\n",
    "MEMORY = 2048 # GB\n",
    "NODES_NUM = 10"
   ]
  },
  {
   "cell_type": "code",
   "execution_count": null,
   "metadata": {},
   "outputs": [],
   "source": [
    "# things you probably should not change\n",
    "config_path = os.path.expanduser(\"~/.surfsara\")\n",
    "endpoint = 'https://api.hpccloud.surfsara.nl/RPC2'"
   ]
  },
  {
   "cell_type": "code",
   "execution_count": null,
   "metadata": {},
   "outputs": [],
   "source": [
    "if not os.access(config_path, os.R_OK):\n",
    "    print(\"can't read {}\".format(config))\n",
    "    print(__doc__)\n",
    "    sys.exit(1)"
   ]
  },
  {
   "cell_type": "code",
   "execution_count": null,
   "metadata": {},
   "outputs": [],
   "source": [
    "config = {}\n",
    "with open(config_path, 'r') as f:\n",
    "    for l in f:\n",
    "        s = l.strip().split('=')\n",
    "        if len(s) == 2:\n",
    "            config[s[0]] = s[1]"
   ]
  },
  {
   "cell_type": "code",
   "execution_count": null,
   "metadata": {},
   "outputs": [],
   "source": [
    "if not ('user' in config and 'pass' in config):\n",
    "    print(\"can't find user and/or pass in config\")\n",
    "    print(__doc__)\n",
    "    sys.exit(1)"
   ]
  },
  {
   "cell_type": "code",
   "execution_count": null,
   "metadata": {},
   "outputs": [],
   "source": [
    "client = oca.Client(config['user'] + ':' + config['pass'], endpoint)"
   ]
  },
  {
   "cell_type": "code",
   "execution_count": null,
   "metadata": {
    "scrolled": true
   },
   "outputs": [],
   "source": [
    "# print a list of nodes\n",
    "vp = oca.VirtualMachinePool(client)\n",
    "vp.info()\n",
    "print(\"[nodes]\")\n",
    "for vm in vp:\n",
    "    if vm.state != vm.ACTIVE:\n",
    "        continue\n",
    "    ip_list = list(v.ip for v in vm.template.nics)\n",
    "    print(ip_list[0])"
   ]
  },
  {
   "cell_type": "code",
   "execution_count": null,
   "metadata": {},
   "outputs": [],
   "source": [
    "extra_template = \"\"\"\n",
    "MEMORY = {}\n",
    "\"\"\".format(MEMORY)"
   ]
  },
  {
   "cell_type": "code",
   "execution_count": null,
   "metadata": {},
   "outputs": [],
   "source": [
    "# instanciate one VM\n",
    "tp = oca.VmTemplatePool(client)\n",
    "tp.info()\n",
    "template = tp.get_by_id(TEMPLATE_ID)\n",
    "template.instantiate(extra_template=extra_template)"
   ]
  },
  {
   "cell_type": "code",
   "execution_count": null,
   "metadata": {
    "scrolled": true
   },
   "outputs": [],
   "source": [
    "# instantiate multiple\n",
    "for i in range(NODES_NUM):\n",
    "    template.instantiate(name=\"workflow-{}\".format(i))"
   ]
  },
  {
   "cell_type": "code",
   "execution_count": null,
   "metadata": {},
   "outputs": [],
   "source": [
    "# delete all VM's\n",
    "vmp = oca.VirtualMachinePool(client=client)\n",
    "vmp.info()\n",
    "\n",
    "for i in vmp:\n",
    "    i.delete()"
   ]
  }
 ],
 "metadata": {
  "kernelspec": {
   "display_name": "Python 2",
   "language": "python",
   "name": "python2"
  },
  "language_info": {
   "codemirror_mode": {
    "name": "ipython",
    "version": 2
   },
   "file_extension": ".py",
   "mimetype": "text/x-python",
   "name": "python",
   "nbconvert_exporter": "python",
   "pygments_lexer": "ipython2",
   "version": "2.7.14"
  }
 },
 "nbformat": 4,
 "nbformat_minor": 2
}
